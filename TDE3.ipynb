{
  "nbformat": 4,
  "nbformat_minor": 0,
  "metadata": {
    "colab": {
      "provenance": [],
      "authorship_tag": "ABX9TyOw6h3PBF9OrTKKr7xTe/Wa",
      "include_colab_link": true
    },
    "kernelspec": {
      "name": "python3",
      "display_name": "Python 3"
    },
    "language_info": {
      "name": "python"
    }
  },
  "cells": [
    {
      "cell_type": "markdown",
      "metadata": {
        "id": "view-in-github",
        "colab_type": "text"
      },
      "source": [
        "<a href=\"https://colab.research.google.com/github/Brunofell/Arquivos_JAVA/blob/main/TDE3.ipynb\" target=\"_parent\"><img src=\"https://colab.research.google.com/assets/colab-badge.svg\" alt=\"Open In Colab\"/></a>"
      ]
    },
    {
      "cell_type": "code",
      "execution_count": null,
      "metadata": {
        "id": "tbbi1K3el_Jb"
      },
      "outputs": [],
      "source": [
        "# TDE 3\n",
        "# NOME: BRUNO FELICIANO, LEANDRO GABRIEL, THIAGO LUZ"
      ]
    },
    {
      "cell_type": "code",
      "source": [
        "!pip install pyspark==3.3.1"
      ],
      "metadata": {
        "id": "VhqrNLwVoutw"
      },
      "execution_count": null,
      "outputs": []
    },
    {
      "cell_type": "code",
      "source": [
        "# abre sessão no spark\n",
        "import pyspark\n",
        "conf = pyspark.SparkConf()\n",
        "conf.setMaster('local[*]')\n",
        "sc = pyspark.SparkContext.getOrCreate(conf)"
      ],
      "metadata": {
        "id": "0wWCZFVSov0Y"
      },
      "execution_count": 3,
      "outputs": []
    },
    {
      "cell_type": "code",
      "source": [
        "# Carregando um arquivo no RDD\n",
        "rdd = sc.textFile('/content/transactions_amostra.csv')"
      ],
      "metadata": {
        "id": "FoGO0I-qtr8K"
      },
      "execution_count": 4,
      "outputs": []
    },
    {
      "cell_type": "code",
      "source": [
        "# 1- The number of transactions involving Brazil;\n",
        "rdd.filter(lambda x: x.split(';')[0] in \"Brazil\").count()"
      ],
      "metadata": {
        "id": "ydk11NlaoJCZ",
        "colab": {
          "base_uri": "https://localhost:8080/"
        },
        "outputId": "041de9ec-47bb-409a-a247-2590eb3e7c45"
      },
      "execution_count": 6,
      "outputs": [
        {
          "output_type": "execute_result",
          "data": {
            "text/plain": [
              "6441"
            ]
          },
          "metadata": {},
          "execution_count": 6
        }
      ]
    },
    {
      "cell_type": "code",
      "source": [
        "# 2- The number of transactions per flow type and year;\n",
        "\n",
        "print(\"Número de transações por tipo de fluxo: \")\n",
        "rddExport = rdd.filter(lambda linha: linha.split(';')[4]==\"Export\").count()\n",
        "print(\"Export: \", rddExport)\n",
        "rddReExport = rdd.filter(lambda linha: linha.split(';')[4]==\"Re-Export\").count()\n",
        "print(\"Re-Export: \", rddReExport)\n",
        "rddImport = rdd.filter(lambda linha: linha.split(';')[4]==\"Import\").count()\n",
        "print(\"Import: \", rddImport)\n",
        "\n",
        "print(\" \")\n",
        "print(\"Número de transações por ano: \")\n",
        "# mapeando cada linha para uma tupla com ano e valor\n",
        "rddTransactionYear = rdd.map(lambda coluna: (coluna.split(';')[1], 1))\\\n",
        ".reduceByKey(lambda x, y: x+y) #reduzindo pra contar o número de transações por ano\n",
        "\n",
        "# aqui estamos coletando os resultados e imprimindo\n",
        "result = rddTransactionYear.collect()\n",
        "\n",
        "for c in result:\n",
        "  print(f\"ano: {c[0]}, Número de transações: {c[1]} \")\n"
      ],
      "metadata": {
        "id": "AcjhkDuioQJn"
      },
      "execution_count": null,
      "outputs": []
    },
    {
      "cell_type": "code",
      "source": [
        "# 3- The average of commodity values per year;\n",
        "\n",
        "# Mapeie cada linha (ano, valor da commodity) usando linha 1 e 5\n",
        "rddAnoCommodity = rdd.map(lambda coluna: (coluna.split(';')[1], coluna.split(';')[5]))\n",
        "# Filtre os valores inválidos (que não podem ser convertidos para float)\n",
        "rddValidacao = rddAnoCommodity.filter(lambda item: item[1].replace('.', '', 1).isdigit())\n",
        "# Converta os valores para float\n",
        "rddFloat = rddValidacao.map(lambda valor: (valor[0], float(valor[1])))\n",
        "# Agrupe as tuplas pelo ano\n",
        "rddPorAno = rddFloat.groupByKey();\n",
        "# Calcule a média dos valores das commodities para cada ano\n",
        "rddMedia = rddPorAno.map(lambda x: (x[0], sum(x[1])/len(x[1])))\n",
        "# Coletar os resultados e imprimir\n",
        "result = rddMedia.collect()\n",
        "for c in result:\n",
        "  print(f\"Ano: {c[0]}, Média dos Valores das Commodities: {c[1]}\")"
      ],
      "metadata": {
        "id": "uEIHLyqjoTCn"
      },
      "execution_count": null,
      "outputs": []
    },
    {
      "cell_type": "code",
      "source": [
        "# 4- The average price of commodities per unit type, year, and category in the export flow in Brazil;\n",
        "# Mapeie as linhas e filtre para restringir a análise apenas para exportações do Brasil\n",
        "def parse_line(line):\n",
        "    fields = line.split(';')\n",
        "    if len(fields) >= 10 and \"Brazil\" in fields[0] and fields[4] == \"Export\":\n",
        "        try:\n",
        "            price = float(fields[5])\n",
        "            return ((fields[1], fields[9]), (price, 1))\n",
        "        except ValueError:\n",
        "            return None\n",
        "    else:\n",
        "        return None\n",
        "\n",
        "# Filtrar apenas as exportações do Brasil e calcular a soma de preços e o total de ocorrências\n",
        "filtered_data = rdd.map(parse_line).filter(lambda x: x is not None)\n",
        "reduced_data = filtered_data.reduceByKey(lambda x, y: (x[0] + y[0], x[1] + y[1]))\n",
        "\n",
        "# Calcule a média de preços por ano, categoria e tipo de unidade\n",
        "average_data = reduced_data.map(lambda x: (x[0], x[1][0] / x[1][1]))\n",
        "\n",
        "# Classifique os resultados por ano, categoria e tipo de unidade\n",
        "sorted_data = average_data.sortBy(lambda x: (x[0][0], x[0][1]))\n",
        "\n",
        "# Salvar o resultado no diretório de saída\n",
        "sorted_data.collect()\n",
        "\n"
      ],
      "metadata": {
        "id": "8EiPOBKzoV03"
      },
      "execution_count": null,
      "outputs": []
    },
    {
      "cell_type": "code",
      "source": [
        "# 5- The maximum, minimum, and mean transaction price per unit type and year;\n",
        "\n",
        "file_path = \"transactions_amostra.csv\"\n",
        "\n",
        "data = sc.textFile(file_path)\n",
        "\n",
        "unit_year_prices = data.map(lambda line: ((line.split(\";\")[1], line.split(\";\")[7]), line.split(\";\")[5]))\n",
        "unit_year_prices = unit_year_prices.filter(lambda item: item[1].replace('.', '', 1).isdigit())  # Filtra apenas valores numéricos\n",
        "unit_year_prices = unit_year_prices.map(lambda item: (item[0], float(item[1])))\n",
        "\n",
        "# Calcule a média de preços por tipo de unidade e ano\n",
        "unit_year_prices_mean = unit_year_prices.combineByKey(\n",
        "    lambda value: (value, 1),\n",
        "    lambda x, value: (x[0] + value, x[1] + 1),\n",
        "    lambda x, y: (x[0] + y[0], x[1] + y[1])\n",
        ")\n",
        "\n",
        "# Calcule o preço máximo e mínimo por tipo de unidade e ano\n",
        "unit_year_prices_max = unit_year_prices.reduceByKey(lambda x, y: max(x, y))\n",
        "unit_year_prices_min = unit_year_prices.reduceByKey(lambda x, y: min(x, y))\n",
        "\n",
        "# Formate os números para o formato xxx,xx\n",
        "formatted_unit_year_prices_mean = unit_year_prices_mean.map(lambda item: (item[0], \"{:.2f}\".format(item[1][0] / item[1][1]).replace(\".\", \",\")))\n",
        "formatted_unit_year_prices_max = unit_year_prices_max.map(lambda item: (item[0], \"{:.2f}\".format(item[1]).replace(\".\", \",\")))\n",
        "formatted_unit_year_prices_min = unit_year_prices_min.map(lambda item: (item[0], \"{:.2f}\".format(item[1]).replace(\".\", \",\")))\n",
        "\n",
        "# Imprima os preços mínimo, médio e máximo por tipo de unidade e ano com separadores\n",
        "print(\"Preço mínimo por tipo de unidade e ano:\")\n",
        "for item in formatted_unit_year_prices_min.collect():\n",
        "    print(item[0], item[1])\n",
        "\n",
        "print(\"----\" * 10)  # Linha separadora\n",
        "\n",
        "print(\"Preço médio por tipo de unidade e ano:\")\n",
        "for item in formatted_unit_year_prices_mean.collect():\n",
        "    print(item[0], item[1])\n",
        "\n",
        "print(\"----\" * 10)  # Linha separadora\n",
        "\n",
        "print(\"Preço máximo por tipo de unidade e ano:\")\n",
        "for item in formatted_unit_year_prices_max.collect():\n",
        "    print(item[0], item[1])"
      ],
      "metadata": {
        "id": "Y6tjKrKdoZWH"
      },
      "execution_count": null,
      "outputs": []
    },
    {
      "cell_type": "code",
      "source": [
        "# 6- The country with the largest average commodity price in the Export flow;\n",
        "\n",
        "# O resultado que estava saindo era a União Europeia, ams como ela é um bloco economico de 27 países\n",
        "# colocamos pra mostrar o segndo maior da lista, que dá o USA.\n",
        "\n",
        "# Mapeie os dados para (país, preço) e filtre os valores inválidos\n",
        "rddPaisPreco = rdd.map(lambda coluna: (coluna.split(';')[0], coluna.split(';')[5].replace(',', '')))\n",
        "rddPaisPreco = rddPaisPreco.filter(lambda x: x[0] != 'country' and x[1].replace('.', '', 1).isdigit())\n",
        "\n",
        "# Converta para float\n",
        "rddPaisPreco = rddPaisPreco.map(lambda x: (x[0], float(x[1])))\n",
        "\n",
        "# Agrupe os dados por país\n",
        "rddPorPais = rddPaisPreco.groupByKey()\n",
        "\n",
        "# Calcule a média dos preços das commodities para cada país\n",
        "rddMediaPorPais = rddPorPais.map(lambda x: (x[0], sum(x[1]) / len(list(x[1]))))\n",
        "\n",
        "# Encontre o país com a maior média de preços de commodities\n",
        "maior_media = rddMediaPorPais.max(lambda x: x[1])\n",
        "\n",
        "# Encontre o segundo país com a maior média de preços de commodities, excluindo o país com a maior média\n",
        "segunda_maior_media = rddMediaPorPais.filter(lambda x: x[0] != maior_media[0]).top(1, key=lambda x: x[1])\n",
        "\n",
        "\n",
        "# Imprima o resultado\n",
        "\n",
        "# print(f\"O país com o maior preço médio de commodities no fluxo de exportação é: {maior_media[0]} com preço médio de {maior_media[1]}\")\n",
        "\n",
        "print(f\"O país com o maior preço médio de commodities no fluxo de exportação é: {segunda_maior_media[0][0]} com preço médio de {segunda_maior_media[0][1]}\")"
      ],
      "metadata": {
        "id": "-Xlhv8eaoc0P"
      },
      "execution_count": null,
      "outputs": []
    }
  ]
}